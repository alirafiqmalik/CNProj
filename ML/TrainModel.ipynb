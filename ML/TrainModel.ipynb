{
  "nbformat": 4,
  "nbformat_minor": 0,
  "metadata": {
    "colab": {
      "provenance": []
    },
    "kernelspec": {
      "name": "python3",
      "display_name": "Python 3"
    },
    "language_info": {
      "name": "python"
    }
  },
  "cells": [
    {
      "cell_type": "code",
      "execution_count": null,
      "metadata": {
        "id": "LRZgpw_VCMRK"
      },
      "outputs": [],
      "source": [
        "!pip install lazypredict"
      ]
    },
    {
      "cell_type": "code",
      "source": [
        "import pandas as pd\n",
        "\n",
        "from sklearn.model_selection import train_test_split\n",
        "from sklearn.datasets import load_breast_cancer\n",
        "from sklearn.model_selection import train_test_split\n",
        "\n",
        "from lazypredict.Supervised import LazyClassifier"
      ],
      "metadata": {
        "id": "K-nYb4sBD_KC"
      },
      "execution_count": 2,
      "outputs": []
    },
    {
      "cell_type": "markdown",
      "source": [
        "# **Load Model**"
      ],
      "metadata": {
        "id": "B3fsNwoLKvbI"
      }
    },
    {
      "cell_type": "code",
      "source": [
        "# Read the dataset\n",
        "df = pd.read_csv(\"dataset.csv\")\n",
        "\n",
        "# Convert MAC,IP etc to usable values for Model\n",
        "df.iloc[:, 2] = df.iloc[:, 2].str.replace('.', '')\n",
        "df.iloc[:, 3] = df.iloc[:, 3].str.replace('.', '')\n",
        "df.iloc[:, 5] = df.iloc[:, 5].str.replace('.', '')\n",
        "\n",
        "\n",
        "# Split the dataset into features and target variable\n",
        "# X = sampled_df.drop(columns=[\"label\"])\n",
        "# y = sampled_df[\"label\"]\n",
        "X = df.iloc[:, :-1].values.astype('float64')\n",
        "y = df.iloc[:, -1].values\n",
        "\n",
        "# # Randomly sample a fraction of the data\n",
        "# sampled_df = df.sample(frac=0.2, random_state=42)  # Change frac value as needed\n",
        "\n",
        "\n",
        "# Split the dataset into train and test sets\n",
        "X_train, X_test, y_train, y_test = train_test_split(X, y, test_size=0.2, random_state=42)"
      ],
      "metadata": {
        "id": "KMh9aQLiDOd5"
      },
      "execution_count": 3,
      "outputs": []
    },
    {
      "cell_type": "markdown",
      "source": [
        "# **Train Model**"
      ],
      "metadata": {
        "id": "SPLjoXNSGNVr"
      }
    },
    {
      "cell_type": "code",
      "source": [
        "from sklearn.tree import DecisionTreeClassifier\n",
        "from sklearn.ensemble import RandomForestClassifier\n",
        "from sklearn.svm import SVC\n",
        "from sklearn.metrics import accuracy_score\n",
        "\n",
        "# Initialize models\n",
        "decision_tree = DecisionTreeClassifier(random_state=42)\n",
        "random_forest = RandomForestClassifier(random_state=42)\n",
        "svc = SVC(random_state=42)\n",
        "\n",
        "# Train models\n",
        "decision_tree.fit(X_train, y_train)\n",
        "random_forest.fit(X_train, y_train)\n",
        "svc.fit(X_train, y_train)\n",
        "\n",
        "# Predictions\n",
        "y_pred_dt = decision_tree.predict(X_test)\n",
        "y_pred_rf = random_forest.predict(X_test)\n",
        "y_pred_svc = svc.predict(X_test)\n",
        "\n",
        "# Evaluate models\n",
        "accuracy_dt = accuracy_score(y_test, y_pred_dt)\n",
        "accuracy_rf = accuracy_score(y_test, y_pred_rf)\n",
        "accuracy_svc = accuracy_score(y_test, y_pred_svc)\n",
        "\n",
        "print(\"Decision Tree Accuracy:\", accuracy_dt)\n",
        "print(\"Random Forest Accuracy:\", accuracy_rf)\n",
        "print(\"SVC Accuracy:\", accuracy_svc)"
      ],
      "metadata": {
        "colab": {
          "base_uri": "https://localhost:8080/"
        },
        "id": "vcpUFRD7OGy1",
        "outputId": "50c80ba3-3398-4b35-f134-170cd5c0d7c5"
      },
      "execution_count": 4,
      "outputs": [
        {
          "output_type": "stream",
          "name": "stdout",
          "text": [
            "Decision Tree Accuracy: 1.0\n",
            "Random Forest Accuracy: 1.0\n",
            "SVC Accuracy: 0.7111362003489685\n"
          ]
        }
      ]
    },
    {
      "cell_type": "code",
      "source": [
        "# clf = LazyClassifier(verbose=0,ignore_warnings=True, custom_metric=None)\n",
        "# models,predictions = clf.fit(X_train, X_test, y_train, y_test)\n",
        "# print(models)"
      ],
      "metadata": {
        "id": "MmnZZ1uDDJul"
      },
      "execution_count": null,
      "outputs": []
    },
    {
      "cell_type": "markdown",
      "source": [
        "# **Save Model**"
      ],
      "metadata": {
        "id": "OPvjYBNzGLOQ"
      }
    },
    {
      "cell_type": "code",
      "source": [
        "import joblib\n",
        "\n",
        "# Save the models\n",
        "joblib.dump(decision_tree, 'decision_tree_model.pkl')\n",
        "joblib.dump(random_forest, 'random_forest_model.pkl')\n",
        "joblib.dump(svc, 'svc_model.pkl')"
      ],
      "metadata": {
        "id": "H8CDnFfMGGZt",
        "colab": {
          "base_uri": "https://localhost:8080/"
        },
        "outputId": "e0b65b8d-725f-4232-ae59-5053b6b83df7"
      },
      "execution_count": 6,
      "outputs": [
        {
          "output_type": "execute_result",
          "data": {
            "text/plain": [
              "['svc_model.pkl']"
            ]
          },
          "metadata": {},
          "execution_count": 6
        }
      ]
    },
    {
      "cell_type": "markdown",
      "source": [
        "# **Load Model**"
      ],
      "metadata": {
        "id": "i9k9LigfGSkT"
      }
    },
    {
      "cell_type": "code",
      "source": [
        "# Load the models\n",
        "loaded_decision_tree = joblib.load('decision_tree_model.pkl')\n",
        "loaded_random_forest = joblib.load('random_forest_model.pkl')\n",
        "loaded_svc = joblib.load('svc_model.pkl')"
      ],
      "metadata": {
        "id": "4UVLH3cdGIUD"
      },
      "execution_count": 7,
      "outputs": []
    },
    {
      "cell_type": "markdown",
      "source": [
        "# **Eval Model**"
      ],
      "metadata": {
        "id": "Tfk11K2Lcb7f"
      }
    },
    {
      "cell_type": "code",
      "source": [
        "from sklearn.metrics import classification_report, confusion_matrix\n",
        "from tabulate import tabulate\n",
        "\n",
        "def print_evaluation_results(model_name, accuracy, classification_rep, confusion_mat):\n",
        "    return [\n",
        "        [f\"{model_name} Evaluation\"],\n",
        "        [\"Accuracy\", f\"{accuracy:.4f}\"],\n",
        "        [\"Classification Report\", classification_rep],\n",
        "        [\"Confusion Matrix\", tabulate(confusion_mat, headers=[''] * len(confusion_mat), tablefmt='grid')]\n",
        "    ]\n",
        "\n",
        "# Get evaluation results for Decision Tree\n",
        "dt_results = print_evaluation_results(\"Decision Tree\", accuracy_dt,\n",
        "                                      classification_report(y_test, y_pred_dt),\n",
        "                                      confusion_matrix(y_test, y_pred_dt))\n",
        "\n",
        "# Get evaluation results for Random Forest\n",
        "rf_results = print_evaluation_results(\"Random Forest\", accuracy_rf,\n",
        "                                      classification_report(y_test, y_pred_rf),\n",
        "                                      confusion_matrix(y_test, y_pred_rf))\n",
        "\n",
        "# Get evaluation results for SVC\n",
        "svc_results = print_evaluation_results(\"SVC\", accuracy_svc,\n",
        "                                       classification_report(y_test, y_pred_svc),\n",
        "                                       confusion_matrix(y_test, y_pred_svc))\n",
        "\n",
        "# Merge results for all models\n",
        "all_results = []\n",
        "for dt_row, rf_row, svc_row in zip(dt_results, rf_results, svc_results):\n",
        "    all_results.append(dt_row + rf_row[1:] + svc_row[1:])\n",
        "\n",
        "# Print in parallel columns\n",
        "print(tabulate(all_results, headers=['', 'Decision Tree', 'Random Forest', 'SVC'], tablefmt='grid'))\n"
      ],
      "metadata": {
        "colab": {
          "base_uri": "https://localhost:8080/"
        },
        "id": "JkEqhDJncdrQ",
        "outputId": "63963796-176e-4469-a6a2-228d4c42109e"
      },
      "execution_count": 12,
      "outputs": [
        {
          "output_type": "stream",
          "name": "stdout",
          "text": [
            "+--------------------------+-------------------------------------------------------+-------------------------------------------------------+-------------------------------------------------------+\n",
            "|                          | Decision Tree                                         | Random Forest                                         | SVC                                                   |\n",
            "+==========================+=======================================================+=======================================================+=======================================================+\n",
            "| Decision Tree Evaluation |                                                       |                                                       |                                                       |\n",
            "+--------------------------+-------------------------------------------------------+-------------------------------------------------------+-------------------------------------------------------+\n",
            "| Accuracy                 | 1.0000                                                | 1.0000                                                | 0.7111                                                |\n",
            "+--------------------------+-------------------------------------------------------+-------------------------------------------------------+-------------------------------------------------------+\n",
            "| Classification Report    | precision    recall  f1-score   support               | precision    recall  f1-score   support               | precision    recall  f1-score   support               |\n",
            "|                          |                                                       |                                                       |                                                       |\n",
            "|                          |            0       1.00      1.00      1.00     32225 |            0       1.00      1.00      1.00     32225 |            0       1.00      0.56      0.72     32225 |\n",
            "|                          |            1       1.00      1.00      1.00     16490 |            1       1.00      1.00      1.00     16490 |            1       0.54      1.00      0.70     16490 |\n",
            "|                          |                                                       |                                                       |                                                       |\n",
            "|                          |     accuracy                           1.00     48715 |     accuracy                           1.00     48715 |     accuracy                           0.71     48715 |\n",
            "|                          |    macro avg       1.00      1.00      1.00     48715 |    macro avg       1.00      1.00      1.00     48715 |    macro avg       0.77      0.78      0.71     48715 |\n",
            "|                          | weighted avg       1.00      1.00      1.00     48715 | weighted avg       1.00      1.00      1.00     48715 | weighted avg       0.84      0.71      0.71     48715 |\n",
            "+--------------------------+-------------------------------------------------------+-------------------------------------------------------+-------------------------------------------------------+\n",
            "| Confusion Matrix         | +-------+-------+                                     | +-------+-------+                                     | +-------+-------+                                     |\n",
            "|                          | |       |       |                                     | |       |       |                                     | |       |       |                                     |\n",
            "|                          | +=======+=======+                                     | +=======+=======+                                     | +=======+=======+                                     |\n",
            "|                          | | 32225 |     0 |                                     | | 32225 |     0 |                                     | | 18153 | 14072 |                                     |\n",
            "|                          | +-------+-------+                                     | +-------+-------+                                     | +-------+-------+                                     |\n",
            "|                          | |     0 | 16490 |                                     | |     0 | 16490 |                                     | |     0 | 16490 |                                     |\n",
            "|                          | +-------+-------+                                     | +-------+-------+                                     | +-------+-------+                                     |\n",
            "+--------------------------+-------------------------------------------------------+-------------------------------------------------------+-------------------------------------------------------+\n"
          ]
        }
      ]
    }
  ]
}